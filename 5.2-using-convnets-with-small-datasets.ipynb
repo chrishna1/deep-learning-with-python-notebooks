{
 "cells": [
  {
   "cell_type": "code",
   "execution_count": 1,
   "metadata": {},
   "outputs": [
    {
     "name": "stderr",
     "output_type": "stream",
     "text": [
      "Using TensorFlow backend.\n"
     ]
    },
    {
     "data": {
      "text/plain": [
       "'2.0.8'"
      ]
     },
     "execution_count": 1,
     "metadata": {},
     "output_type": "execute_result"
    }
   ],
   "source": [
    "import keras\n",
    "keras.__version__"
   ]
  },
  {
   "cell_type": "markdown",
   "metadata": {},
   "source": [
    "# 5.2 - Using convnets with small datasets\n",
    "\n",
    "This notebook contains the code sample found in Chapter 5, Section 2 of [Deep Learning with Python](https://www.manning.com/books/deep-learning-with-python?a_aid=keras&a_bid=76564dff). Note that the original text features far more content, in particular further explanations and figures: in this notebook, you will only find source code and related comments.\n",
    "\n",
    "## Training a convnet from scratch on a small dataset\n",
    "\n",
    "Having to train an image classification model using only very little data is a common situation, which you likely encounter yourself in \n",
    "practice if you ever do computer vision in a professional context.\n",
    "\n",
    "Having \"few\" samples can mean anywhere from a few hundreds to a few tens of thousands of images. As a practical example, we will focus on \n",
    "classifying images as \"dogs\" or \"cats\", in a dataset containing 4000 pictures of cats and dogs (2000 cats, 2000 dogs). We will use 2000 \n",
    "pictures for training, 1000 for validation, and finally 1000 for testing.\n",
    "\n",
    "In this section, we will review one basic strategy to tackle this problem: training a new model from scratch on what little data we have. We \n",
    "will start by naively training a small convnet on our 2000 training samples, without any regularization, to set a baseline for what can be \n",
    "achieved. This will get us to a classification accuracy of 71%. At that point, our main issue will be overfitting. Then we will introduce \n",
    "*data augmentation*, a powerful technique for mitigating overfitting in computer vision. By leveraging data augmentation, we will improve \n",
    "our network to reach an accuracy of 82%.\n",
    "\n",
    "In the next section, we will review two more essential techniques for applying deep learning to small datasets: *doing feature extraction \n",
    "with a pre-trained network* (this will get us to an accuracy of 90% to 93%), and *fine-tuning a pre-trained network* (this will get us to \n",
    "our final accuracy of 95%). Together, these three strategies -- training a small model from scratch, doing feature extracting using a \n",
    "pre-trained model, and fine-tuning a pre-trained model -- will constitute your future toolbox for tackling the problem of doing computer \n",
    "vision with small datasets."
   ]
  },
  {
   "cell_type": "markdown",
   "metadata": {},
   "source": [
    "## The relevance of deep learning for small-data problems\n",
    "\n",
    "You will sometimes hear that deep learning only works when lots of data is available. This is in part a valid point: one fundamental \n",
    "characteristic of deep learning is that it is able to find interesting features in the training data on its own, without any need for manual \n",
    "feature engineering, and this can only be achieved when lots of training examples are available. This is especially true for problems where \n",
    "the input samples are very high-dimensional, like images.\n",
    "\n",
    "However, what constitutes \"lots\" of samples is relative -- relative to the size and depth of the network you are trying to train, for \n",
    "starters. It isn't possible to train a convnet to solve a complex problem with just a few tens of samples, but a few hundreds can \n",
    "potentially suffice if the model is small and well-regularized and if the task is simple. \n",
    "Because convnets learn local, translation-invariant features, they are very \n",
    "data-efficient on perceptual problems. Training a convnet from scratch on a very small image dataset will still yield reasonable results \n",
    "despite a relative lack of data, without the need for any custom feature engineering. You will see this in action in this section.\n",
    "\n",
    "But what's more, deep learning models are by nature highly repurposable: you can take, say, an image classification or speech-to-text model \n",
    "trained on a large-scale dataset then reuse it on a significantly different problem with only minor changes. Specifically, in the case of \n",
    "computer vision, many pre-trained models (usually trained on the ImageNet dataset) are now publicly available for download and can be used \n",
    "to bootstrap powerful vision models out of very little data. That's what we will do in the next section.\n",
    "\n",
    "For now, let's get started by getting our hands on the data."
   ]
  },
  {
   "cell_type": "markdown",
   "metadata": {},
   "source": [
    "## Downloading the data\n",
    "\n",
    "The cats vs. dogs dataset that we will use isn't packaged with Keras. It was made available by Kaggle.com as part of a computer vision \n",
    "competition in late 2013, back when convnets weren't quite mainstream. You can download the original dataset at: \n",
    "`https://www.kaggle.com/c/dogs-vs-cats/data` (you will need to create a Kaggle account if you don't already have one -- don't worry, the \n",
    "process is painless).\n",
    "\n",
    "The pictures are medium-resolution color JPEGs. They look like this:\n",
    "\n",
    "![cats_vs_dogs_samples](https://s3.amazonaws.com/book.keras.io/img/ch5/cats_vs_dogs_samples.jpg)"
   ]
  },
  {
   "cell_type": "markdown",
   "metadata": {},
   "source": [
    "Unsurprisingly, the cats vs. dogs Kaggle competition in 2013 was won by entrants who used convnets. The best entries could achieve up to \n",
    "95% accuracy. In our own example, we will get fairly close to this accuracy (in the next section), even though we will be training our \n",
    "models on less than 10% of the data that was available to the competitors.\n",
    "This original dataset contains 25,000 images of dogs and cats (12,500 from each class) and is 543MB large (compressed). After downloading \n",
    "and uncompressing it, we will create a new dataset containing three subsets: a training set with 1000 samples of each class, a validation \n",
    "set with 500 samples of each class, and finally a test set with 500 samples of each class.\n",
    "\n",
    "Here are a few lines of code to do this:"
   ]
  },
  {
   "cell_type": "code",
   "execution_count": 2,
   "metadata": {
    "collapsed": true
   },
   "outputs": [],
   "source": [
    "import os, shutil"
   ]
  },
  {
   "cell_type": "code",
   "execution_count": null,
   "metadata": {
    "collapsed": true
   },
   "outputs": [],
   "source": [
    "# The path to the directory where the original\n",
    "# dataset was uncompressed\n",
    "original_dataset_dir = '/Users/fchollet/Downloads/kaggle_original_data'\n",
    "\n",
    "# The directory where we will\n",
    "# store our smaller dataset\n",
    "base_dir = '/Users/fchollet/Downloads/cats_and_dogs_small'\n",
    "os.mkdir(base_dir)\n",
    "\n",
    "# Directories for our training,\n",
    "# validation and test splits\n",
    "train_dir = os.path.join(base_dir, 'train')\n",
    "os.mkdir(train_dir)\n",
    "validation_dir = os.path.join(base_dir, 'validation')\n",
    "os.mkdir(validation_dir)\n",
    "test_dir = os.path.join(base_dir, 'test')\n",
    "os.mkdir(test_dir)\n",
    "\n",
    "# Directory with our training cat pictures\n",
    "train_cats_dir = os.path.join(train_dir, 'cats')\n",
    "os.mkdir(train_cats_dir)\n",
    "\n",
    "# Directory with our training dog pictures\n",
    "train_dogs_dir = os.path.join(train_dir, 'dogs')\n",
    "os.mkdir(train_dogs_dir)\n",
    "\n",
    "# Directory with our validation cat pictures\n",
    "validation_cats_dir = os.path.join(validation_dir, 'cats')\n",
    "os.mkdir(validation_cats_dir)\n",
    "\n",
    "# Directory with our validation dog pictures\n",
    "validation_dogs_dir = os.path.join(validation_dir, 'dogs')\n",
    "os.mkdir(validation_dogs_dir)\n",
    "\n",
    "# Directory with our test cat pictures\n",
    "test_cats_dir = os.path.join(test_dir, 'cats')\n",
    "os.mkdir(test_cats_dir)\n",
    "\n",
    "# Directory with our test dog pictures\n",
    "test_dogs_dir = os.path.join(test_dir, 'dogs')\n",
    "os.mkdir(test_dogs_dir)\n",
    "\n",
    "# Copy first 1000 cat images to train_cats_dir\n",
    "fnames = ['cat.{}.jpg'.format(i) for i in range(1000)]\n",
    "for fname in fnames:\n",
    "    src = os.path.join(original_dataset_dir, fname)\n",
    "    dst = os.path.join(train_cats_dir, fname)\n",
    "    shutil.copyfile(src, dst)\n",
    "\n",
    "# Copy next 500 cat images to validation_cats_dir\n",
    "fnames = ['cat.{}.jpg'.format(i) for i in range(1000, 1500)]\n",
    "for fname in fnames:\n",
    "    src = os.path.join(original_dataset_dir, fname)\n",
    "    dst = os.path.join(validation_cats_dir, fname)\n",
    "    shutil.copyfile(src, dst)\n",
    "    \n",
    "# Copy next 500 cat images to test_cats_dir\n",
    "fnames = ['cat.{}.jpg'.format(i) for i in range(1500, 2000)]\n",
    "for fname in fnames:\n",
    "    src = os.path.join(original_dataset_dir, fname)\n",
    "    dst = os.path.join(test_cats_dir, fname)\n",
    "    shutil.copyfile(src, dst)\n",
    "    \n",
    "# Copy first 1000 dog images to train_dogs_dir\n",
    "fnames = ['dog.{}.jpg'.format(i) for i in range(1000)]\n",
    "for fname in fnames:\n",
    "    src = os.path.join(original_dataset_dir, fname)\n",
    "    dst = os.path.join(train_dogs_dir, fname)\n",
    "    shutil.copyfile(src, dst)\n",
    "    \n",
    "# Copy next 500 dog images to validation_dogs_dir\n",
    "fnames = ['dog.{}.jpg'.format(i) for i in range(1000, 1500)]\n",
    "for fname in fnames:\n",
    "    src = os.path.join(original_dataset_dir, fname)\n",
    "    dst = os.path.join(validation_dogs_dir, fname)\n",
    "    shutil.copyfile(src, dst)\n",
    "    \n",
    "# Copy next 500 dog images to test_dogs_dir\n",
    "fnames = ['dog.{}.jpg'.format(i) for i in range(1500, 2000)]\n",
    "for fname in fnames:\n",
    "    src = os.path.join(original_dataset_dir, fname)\n",
    "    dst = os.path.join(test_dogs_dir, fname)\n",
    "    shutil.copyfile(src, dst)"
   ]
  },
  {
   "cell_type": "markdown",
   "metadata": {},
   "source": [
    "As a sanity check, let's count how many pictures we have in each training split (train/validation/test):"
   ]
  },
  {
   "cell_type": "code",
   "execution_count": 4,
   "metadata": {},
   "outputs": [
    {
     "name": "stdout",
     "output_type": "stream",
     "text": [
      "total training cat images: 1000\n"
     ]
    }
   ],
   "source": [
    "print('total training cat images:', len(os.listdir(train_cats_dir)))"
   ]
  },
  {
   "cell_type": "code",
   "execution_count": 5,
   "metadata": {},
   "outputs": [
    {
     "name": "stdout",
     "output_type": "stream",
     "text": [
      "total training dog images: 1000\n"
     ]
    }
   ],
   "source": [
    "print('total training dog images:', len(os.listdir(train_dogs_dir)))"
   ]
  },
  {
   "cell_type": "code",
   "execution_count": 6,
   "metadata": {},
   "outputs": [
    {
     "name": "stdout",
     "output_type": "stream",
     "text": [
      "total validation cat images: 500\n"
     ]
    }
   ],
   "source": [
    "print('total validation cat images:', len(os.listdir(validation_cats_dir)))"
   ]
  },
  {
   "cell_type": "code",
   "execution_count": 7,
   "metadata": {},
   "outputs": [
    {
     "name": "stdout",
     "output_type": "stream",
     "text": [
      "total validation dog images: 500\n"
     ]
    }
   ],
   "source": [
    "print('total validation dog images:', len(os.listdir(validation_dogs_dir)))"
   ]
  },
  {
   "cell_type": "code",
   "execution_count": 8,
   "metadata": {},
   "outputs": [
    {
     "name": "stdout",
     "output_type": "stream",
     "text": [
      "total test cat images: 500\n"
     ]
    }
   ],
   "source": [
    "print('total test cat images:', len(os.listdir(test_cats_dir)))"
   ]
  },
  {
   "cell_type": "code",
   "execution_count": 9,
   "metadata": {},
   "outputs": [
    {
     "name": "stdout",
     "output_type": "stream",
     "text": [
      "total test dog images: 500\n"
     ]
    }
   ],
   "source": [
    "print('total test dog images:', len(os.listdir(test_dogs_dir)))"
   ]
  },
  {
   "cell_type": "markdown",
   "metadata": {},
   "source": [
    "\n",
    "So we have indeed 2000 training images, and then 1000 validation images and 1000 test images. In each split, there is the same number of \n",
    "samples from each class: this is a balanced binary classification problem, which means that classification accuracy will be an appropriate \n",
    "measure of success."
   ]
  },
  {
   "cell_type": "markdown",
   "metadata": {},
   "source": [
    "## Building our network\n",
    "\n",
    "We've already built a small convnet for MNIST in the previous example, so you should be familiar with them. We will reuse the same \n",
    "general structure: our convnet will be a stack of alternated `Conv2D` (with `relu` activation) and `MaxPooling2D` layers.\n",
    "\n",
    "However, since we are dealing with bigger images and a more complex problem, we will make our network accordingly larger: it will have one \n",
    "more `Conv2D` + `MaxPooling2D` stage. This serves both to augment the capacity of the network, and to further reduce the size of the \n",
    "feature maps, so that they aren't overly large when we reach the `Flatten` layer. Here, since we start from inputs of size 150x150 (a \n",
    "somewhat arbitrary choice), we end up with feature maps of size 7x7 right before the `Flatten` layer.\n",
    "\n",
    "Note that the depth of the feature maps is progressively increasing in the network (from 32 to 128), while the size of the feature maps is \n",
    "decreasing (from 148x148 to 7x7). This is a pattern that you will see in almost all convnets.\n",
    "\n",
    "Since we are attacking a binary classification problem, we are ending the network with a single unit (a `Dense` layer of size 1) and a \n",
    "`sigmoid` activation. This unit will encode the probability that the network is looking at one class or the other."
   ]
  },
  {
   "cell_type": "code",
   "execution_count": 10,
   "metadata": {
    "collapsed": true
   },
   "outputs": [],
   "source": [
    "from keras import layers\n",
    "from keras import models\n",
    "\n",
    "model = models.Sequential()\n",
    "model.add(layers.Conv2D(32, (3, 3), activation='relu',\n",
    "                        input_shape=(150, 150, 3)))\n",
    "model.add(layers.MaxPooling2D((2, 2)))\n",
    "model.add(layers.Conv2D(64, (3, 3), activation='relu'))\n",
    "model.add(layers.MaxPooling2D((2, 2)))\n",
    "model.add(layers.Conv2D(128, (3, 3), activation='relu'))\n",
    "model.add(layers.MaxPooling2D((2, 2)))\n",
    "model.add(layers.Conv2D(128, (3, 3), activation='relu'))\n",
    "model.add(layers.MaxPooling2D((2, 2)))\n",
    "model.add(layers.Flatten())\n",
    "model.add(layers.Dense(512, activation='relu'))\n",
    "model.add(layers.Dense(1, activation='sigmoid'))"
   ]
  },
  {
   "cell_type": "markdown",
   "metadata": {},
   "source": [
    "Let's take a look at how the dimensions of the feature maps change with every successive layer:"
   ]
  },
  {
   "cell_type": "code",
   "execution_count": 11,
   "metadata": {},
   "outputs": [
    {
     "name": "stdout",
     "output_type": "stream",
     "text": [
      "_________________________________________________________________\n",
      "Layer (type)                 Output Shape              Param #   \n",
      "=================================================================\n",
      "conv2d_1 (Conv2D)            (None, 148, 148, 32)      896       \n",
      "_________________________________________________________________\n",
      "max_pooling2d_1 (MaxPooling2 (None, 74, 74, 32)        0         \n",
      "_________________________________________________________________\n",
      "conv2d_2 (Conv2D)            (None, 72, 72, 64)        18496     \n",
      "_________________________________________________________________\n",
      "max_pooling2d_2 (MaxPooling2 (None, 36, 36, 64)        0         \n",
      "_________________________________________________________________\n",
      "conv2d_3 (Conv2D)            (None, 34, 34, 128)       73856     \n",
      "_________________________________________________________________\n",
      "max_pooling2d_3 (MaxPooling2 (None, 17, 17, 128)       0         \n",
      "_________________________________________________________________\n",
      "conv2d_4 (Conv2D)            (None, 15, 15, 128)       147584    \n",
      "_________________________________________________________________\n",
      "max_pooling2d_4 (MaxPooling2 (None, 7, 7, 128)         0         \n",
      "_________________________________________________________________\n",
      "flatten_1 (Flatten)          (None, 6272)              0         \n",
      "_________________________________________________________________\n",
      "dense_1 (Dense)              (None, 512)               3211776   \n",
      "_________________________________________________________________\n",
      "dense_2 (Dense)              (None, 1)                 513       \n",
      "=================================================================\n",
      "Total params: 3,453,121\n",
      "Trainable params: 3,453,121\n",
      "Non-trainable params: 0\n",
      "_________________________________________________________________\n"
     ]
    }
   ],
   "source": [
    "model.summary()"
   ]
  },
  {
   "cell_type": "markdown",
   "metadata": {},
   "source": [
    "For our compilation step, we'll go with the `RMSprop` optimizer as usual. Since we ended our network with a single sigmoid unit, we will \n",
    "use binary crossentropy as our loss (as a reminder, check out the table in Chapter 4, section 5 for a cheatsheet on what loss function to \n",
    "use in various situations)."
   ]
  },
  {
   "cell_type": "code",
   "execution_count": 12,
   "metadata": {
    "collapsed": true
   },
   "outputs": [],
   "source": [
    "from keras import optimizers\n",
    "\n",
    "model.compile(loss='binary_crossentropy',\n",
    "              optimizer=optimizers.RMSprop(lr=1e-4),\n",
    "              metrics=['acc'])"
   ]
  },
  {
   "cell_type": "markdown",
   "metadata": {},
   "source": [
    "## Data preprocessing\n",
    "\n",
    "As you already know by now, data should be formatted into appropriately pre-processed floating point tensors before being fed into our \n",
    "network. Currently, our data sits on a drive as JPEG files, so the steps for getting it into our network are roughly:\n",
    "\n",
    "* Read the picture files.\n",
    "* Decode the JPEG content to RBG grids of pixels.\n",
    "* Convert these into floating point tensors.\n",
    "* Rescale the pixel values (between 0 and 255) to the [0, 1] interval (as you know, neural networks prefer to deal with small input values).\n",
    "\n",
    "It may seem a bit daunting, but thankfully Keras has utilities to take care of these steps automatically. Keras has a module with image \n",
    "processing helper tools, located at `keras.preprocessing.image`. In particular, it contains the class `ImageDataGenerator` which allows to \n",
    "quickly set up Python generators that can automatically turn image files on disk into batches of pre-processed tensors. This is what we \n",
    "will use here."
   ]
  },
  {
   "cell_type": "code",
   "execution_count": 13,
   "metadata": {},
   "outputs": [
    {
     "name": "stdout",
     "output_type": "stream",
     "text": [
      "Found 2000 images belonging to 2 classes.\n",
      "Found 1000 images belonging to 2 classes.\n"
     ]
    }
   ],
   "source": [
    "from keras.preprocessing.image import ImageDataGenerator\n",
    "\n",
    "# All images will be rescaled by 1./255\n",
    "train_datagen = ImageDataGenerator(rescale=1./255)\n",
    "test_datagen = ImageDataGenerator(rescale=1./255)\n",
    "\n",
    "train_generator = train_datagen.flow_from_directory(\n",
    "        # This is the target directory\n",
    "        train_dir,\n",
    "        # All images will be resized to 150x150\n",
    "        target_size=(150, 150),\n",
    "        batch_size=20,\n",
    "        # Since we use binary_crossentropy loss, we need binary labels\n",
    "        class_mode='binary')\n",
    "\n",
    "validation_generator = test_datagen.flow_from_directory(\n",
    "        validation_dir,\n",
    "        target_size=(150, 150),\n",
    "        batch_size=20,\n",
    "        class_mode='binary')"
   ]
  },
  {
   "cell_type": "markdown",
   "metadata": {},
   "source": [
    "Let's take a look at the output of one of these generators: it yields batches of 150x150 RGB images (shape `(20, 150, 150, 3)`) and binary \n",
    "labels (shape `(20,)`). 20 is the number of samples in each batch (the batch size). Note that the generator yields these batches \n",
    "indefinitely: it just loops endlessly over the images present in the target folder. For this reason, we need to `break` the iteration loop \n",
    "at some point."
   ]
  },
  {
   "cell_type": "code",
   "execution_count": 14,
   "metadata": {},
   "outputs": [
    {
     "name": "stdout",
     "output_type": "stream",
     "text": [
      "data batch shape: (20, 150, 150, 3)\n",
      "labels batch shape: (20,)\n"
     ]
    }
   ],
   "source": [
    "for data_batch, labels_batch in train_generator:\n",
    "    print('data batch shape:', data_batch.shape)\n",
    "    print('labels batch shape:', labels_batch.shape)\n",
    "    break"
   ]
  },
  {
   "cell_type": "markdown",
   "metadata": {},
   "source": [
    "Let's fit our model to the data using the generator. We do it using the `fit_generator` method, the equivalent of `fit` for data generators \n",
    "like ours. It expects as first argument a Python generator that will yield batches of inputs and targets indefinitely, like ours does. \n",
    "Because the data is being generated endlessly, the generator needs to know example how many samples to draw from the generator before \n",
    "declaring an epoch over. This is the role of the `steps_per_epoch` argument: after having drawn `steps_per_epoch` batches from the \n",
    "generator, i.e. after having run for `steps_per_epoch` gradient descent steps, the fitting process will go to the next epoch. In our case, \n",
    "batches are 20-sample large, so it will take 100 batches until we see our target of 2000 samples.\n",
    "\n",
    "When using `fit_generator`, one may pass a `validation_data` argument, much like with the `fit` method. Importantly, this argument is \n",
    "allowed to be a data generator itself, but it could be a tuple of Numpy arrays as well. If you pass a generator as `validation_data`, then \n",
    "this generator is expected to yield batches of validation data endlessly, and thus you should also specify the `validation_steps` argument, \n",
    "which tells the process how many batches to draw from the validation generator for evaluation."
   ]
  },
  {
   "cell_type": "code",
   "execution_count": 15,
   "metadata": {},
   "outputs": [
    {
     "name": "stdout",
     "output_type": "stream",
     "text": [
      "Epoch 1/30\n",
      "100/100 [==============================] - 9s - loss: 0.6898 - acc: 0.5285 - val_loss: 0.6724 - val_acc: 0.5950\n",
      "Epoch 2/30\n",
      "100/100 [==============================] - 8s - loss: 0.6543 - acc: 0.6340 - val_loss: 0.6565 - val_acc: 0.5950\n",
      "Epoch 3/30\n",
      "100/100 [==============================] - 8s - loss: 0.6143 - acc: 0.6690 - val_loss: 0.6116 - val_acc: 0.6650\n",
      "Epoch 4/30\n",
      "100/100 [==============================] - 8s - loss: 0.5626 - acc: 0.7125 - val_loss: 0.5774 - val_acc: 0.6970\n",
      "Epoch 5/30\n",
      "100/100 [==============================] - 8s - loss: 0.5266 - acc: 0.7335 - val_loss: 0.5726 - val_acc: 0.6960\n",
      "Epoch 6/30\n",
      "100/100 [==============================] - 8s - loss: 0.5007 - acc: 0.7550 - val_loss: 0.6075 - val_acc: 0.6580\n",
      "Epoch 7/30\n",
      "100/100 [==============================] - 8s - loss: 0.4723 - acc: 0.7840 - val_loss: 0.5516 - val_acc: 0.7060\n",
      "Epoch 8/30\n",
      "100/100 [==============================] - 8s - loss: 0.4521 - acc: 0.7875 - val_loss: 0.5724 - val_acc: 0.6980\n",
      "Epoch 9/30\n",
      "100/100 [==============================] - 8s - loss: 0.4163 - acc: 0.8095 - val_loss: 0.5653 - val_acc: 0.7140\n",
      "Epoch 10/30\n",
      "100/100 [==============================] - 8s - loss: 0.3988 - acc: 0.8185 - val_loss: 0.5508 - val_acc: 0.7180\n",
      "Epoch 11/30\n",
      "100/100 [==============================] - 8s - loss: 0.3694 - acc: 0.8385 - val_loss: 0.5712 - val_acc: 0.7300\n",
      "Epoch 12/30\n",
      "100/100 [==============================] - 8s - loss: 0.3385 - acc: 0.8465 - val_loss: 0.6097 - val_acc: 0.7110\n",
      "Epoch 13/30\n",
      "100/100 [==============================] - 8s - loss: 0.3229 - acc: 0.8565 - val_loss: 0.5827 - val_acc: 0.7150\n",
      "Epoch 14/30\n",
      "100/100 [==============================] - 8s - loss: 0.2962 - acc: 0.8720 - val_loss: 0.5928 - val_acc: 0.7190\n",
      "Epoch 15/30\n",
      "100/100 [==============================] - 8s - loss: 0.2684 - acc: 0.9005 - val_loss: 0.5921 - val_acc: 0.7190\n",
      "Epoch 16/30\n",
      "100/100 [==============================] - 8s - loss: 0.2509 - acc: 0.8980 - val_loss: 0.6148 - val_acc: 0.7250\n",
      "Epoch 17/30\n",
      "100/100 [==============================] - 8s - loss: 0.2221 - acc: 0.9110 - val_loss: 0.6487 - val_acc: 0.7010\n",
      "Epoch 18/30\n",
      "100/100 [==============================] - 8s - loss: 0.2021 - acc: 0.9250 - val_loss: 0.6185 - val_acc: 0.7300\n",
      "Epoch 19/30\n",
      "100/100 [==============================] - 8s - loss: 0.1824 - acc: 0.9310 - val_loss: 0.7713 - val_acc: 0.7020\n",
      "Epoch 20/30\n",
      "100/100 [==============================] - 8s - loss: 0.1579 - acc: 0.9425 - val_loss: 0.6657 - val_acc: 0.7260\n",
      "Epoch 21/30\n",
      "100/100 [==============================] - 8s - loss: 0.1355 - acc: 0.9550 - val_loss: 0.8077 - val_acc: 0.7040\n",
      "Epoch 22/30\n",
      "100/100 [==============================] - 8s - loss: 0.1247 - acc: 0.9545 - val_loss: 0.7726 - val_acc: 0.7080\n",
      "Epoch 23/30\n",
      "100/100 [==============================] - 8s - loss: 0.1111 - acc: 0.9585 - val_loss: 0.7387 - val_acc: 0.7220\n",
      "Epoch 24/30\n",
      "100/100 [==============================] - 8s - loss: 0.0932 - acc: 0.9710 - val_loss: 0.8196 - val_acc: 0.7050\n",
      "Epoch 25/30\n",
      "100/100 [==============================] - 8s - loss: 0.0707 - acc: 0.9790 - val_loss: 0.9012 - val_acc: 0.7190\n",
      "Epoch 26/30\n",
      "100/100 [==============================] - 8s - loss: 0.0625 - acc: 0.9855 - val_loss: 1.0437 - val_acc: 0.6970\n",
      "Epoch 27/30\n",
      "100/100 [==============================] - 8s - loss: 0.0611 - acc: 0.9820 - val_loss: 0.9831 - val_acc: 0.7060\n",
      "Epoch 28/30\n",
      "100/100 [==============================] - 8s - loss: 0.0488 - acc: 0.9865 - val_loss: 0.9721 - val_acc: 0.7310\n",
      "Epoch 29/30\n",
      "100/100 [==============================] - 8s - loss: 0.0375 - acc: 0.9915 - val_loss: 0.9987 - val_acc: 0.7100\n",
      "Epoch 30/30\n",
      "100/100 [==============================] - 8s - loss: 0.0387 - acc: 0.9895 - val_loss: 1.0139 - val_acc: 0.7240\n"
     ]
    }
   ],
   "source": [
    "history = model.fit_generator(\n",
    "      train_generator,\n",
    "      steps_per_epoch=100,\n",
    "      epochs=30,\n",
    "      validation_data=validation_generator,\n",
    "      validation_steps=50)"
   ]
  },
  {
   "cell_type": "markdown",
   "metadata": {
    "collapsed": true
   },
   "source": [
    "It is good practice to always save your models after training:"
   ]
  },
  {
   "cell_type": "code",
   "execution_count": 16,
   "metadata": {
    "collapsed": true
   },
   "outputs": [],
   "source": [
    "model.save('cats_and_dogs_small_1.h5')"
   ]
  },
  {
   "cell_type": "markdown",
   "metadata": {},
   "source": [
    "Let's plot the loss and accuracy of the model over the training and validation data during training:"
   ]
  },
  {
   "cell_type": "code",
   "execution_count": 34,
   "metadata": {},
   "outputs": [
    {
     "data": {
      "image/png": "iVBORw0KGgoAAAANSUhEUgAAAXcAAAEICAYAAACktLTqAAAABHNCSVQICAgIfAhkiAAAAAlwSFlz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\nYII=\n",
      "text/plain": [
       "<matplotlib.figure.Figure at 0x7fc7aa0432b0>"
      ]
     },
     "metadata": {},
     "output_type": "display_data"
    },
    {
     "data": {
      "image/png": "iVBORw0KGgoAAAANSUhEUgAAAXcAAAEICAYAAACktLTqAAAABHNCSVQICAgIfAhkiAAAAAlwSFlz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\nY0wc+n+desdoPzWBogAAAABJRU5ErkJggg==\n",
      "text/plain": [
       "<matplotlib.figure.Figure at 0x7fc7aa22d1d0>"
      ]
     },
     "metadata": {},
     "output_type": "display_data"
    }
   ],
   "source": [
    "import matplotlib.pyplot as plt\n",
    "\n",
    "acc = history.history['acc']\n",
    "val_acc = history.history['val_acc']\n",
    "loss = history.history['loss']\n",
    "val_loss = history.history['val_loss']\n",
    "\n",
    "epochs = range(len(acc))\n",
    "\n",
    "plt.plot(epochs, acc, 'bo', label='Training acc')\n",
    "plt.plot(epochs, val_acc, 'b', label='Validation acc')\n",
    "plt.title('Training and validation accuracy')\n",
    "plt.legend()\n",
    "\n",
    "plt.figure()\n",
    "\n",
    "plt.plot(epochs, loss, 'bo', label='Training loss')\n",
    "plt.plot(epochs, val_loss, 'b', label='Validation loss')\n",
    "plt.title('Training and validation loss')\n",
    "plt.legend()\n",
    "\n",
    "plt.show()"
   ]
  },
  {
   "cell_type": "markdown",
   "metadata": {},
   "source": [
    "These plots are characteristic of overfitting. Our training accuracy increases linearly over time, until it reaches nearly 100%, while our \n",
    "validation accuracy stalls at 70-72%. Our validation loss reaches its minimum after only five epochs then stalls, while the training loss \n",
    "keeps decreasing linearly until it reaches nearly 0.\n",
    "\n",
    "Because we only have relatively few training samples (2000), overfitting is going to be our number one concern. You already know about a \n",
    "number of techniques that can help mitigate overfitting, such as dropout and weight decay (L2 regularization). We are now going to \n",
    "introduce a new one, specific to computer vision, and used almost universally when processing images with deep learning models: *data \n",
    "augmentation*."
   ]
  },
  {
   "cell_type": "markdown",
   "metadata": {},
   "source": [
    "## Using data augmentation\n",
    "\n",
    "Overfitting is caused by having too few samples to learn from, rendering us unable to train a model able to generalize to new data. \n",
    "Given infinite data, our model would be exposed to every possible aspect of the data distribution at hand: we would never overfit. Data \n",
    "augmentation takes the approach of generating more training data from existing training samples, by \"augmenting\" the samples via a number \n",
    "of random transformations that yield believable-looking images. The goal is that at training time, our model would never see the exact same \n",
    "picture twice. This helps the model get exposed to more aspects of the data and generalize better.\n",
    "\n",
    "In Keras, this can be done by configuring a number of random transformations to be performed on the images read by our `ImageDataGenerator` \n",
    "instance. Let's get started with an example:"
   ]
  },
  {
   "cell_type": "code",
   "execution_count": 35,
   "metadata": {
    "collapsed": true
   },
   "outputs": [],
   "source": [
    "datagen = ImageDataGenerator(\n",
    "      rotation_range=40,\n",
    "      width_shift_range=0.2,\n",
    "      height_shift_range=0.2,\n",
    "      shear_range=0.2,\n",
    "      zoom_range=0.2,\n",
    "      horizontal_flip=True,\n",
    "      fill_mode='nearest')"
   ]
  },
  {
   "cell_type": "markdown",
   "metadata": {},
   "source": [
    "These are just a few of the options available (for more, see the Keras documentation). Let's quickly go over what we just wrote:\n",
    "\n",
    "* `rotation_range` is a value in degrees (0-180), a range within which to randomly rotate pictures.\n",
    "* `width_shift` and `height_shift` are ranges (as a fraction of total width or height) within which to randomly translate pictures \n",
    "vertically or horizontally.\n",
    "* `shear_range` is for randomly applying shearing transformations.\n",
    "* `zoom_range` is for randomly zooming inside pictures.\n",
    "* `horizontal_flip` is for randomly flipping half of the images horizontally -- relevant when there are no assumptions of horizontal \n",
    "asymmetry (e.g. real-world pictures).\n",
    "* `fill_mode` is the strategy used for filling in newly created pixels, which can appear after a rotation or a width/height shift.\n",
    "\n",
    "Let's take a look at our augmented images:"
   ]
  },
  {
   "cell_type": "code",
   "execution_count": 36,
   "metadata": {},
   "outputs": [
    {
     "data": {
      "image/png": "iVBORw0KGgoAAAANSUhEUgAAAQUAAAD8CAYAAAB+fLH0AAAABHNCSVQICAgIfAhkiAAAAAlwSFlz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\neS4KKGi328ylqRkmmlS9mk1m8KdUlXArOj
